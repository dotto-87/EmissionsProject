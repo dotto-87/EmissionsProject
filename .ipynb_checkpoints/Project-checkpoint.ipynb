{
 "cells": [
  {
   "cell_type": "markdown",
   "metadata": {},
   "source": [
    "# Greenhouse Gas Emissions: Reduction Efforts by OECD and Other Major Countries\n",
    "\n",
    "This project will explore the greenhouse gas (GHG) emissions of OECD member countries and other major countries. It will look at the current GHG emission levels of these countries and analyse the change in levels from 1990 to 2018. It will also identify the countries with the largest reductions in GHG levels over the period and analyse possible factors which contributed to the decreases. \n",
    "\n"
   ]
  },
  {
   "cell_type": "markdown",
   "metadata": {},
   "source": [
    "# Introduction\n",
    "Climate change is a crucial issue faced by all nations worldwide. The sense of urgency has been emphasised recently as the United Nations Intergovernmental Panel on Climate Change (IPCC) released a report declaring that climate change is “widespread, rapid, and intensifying” (2021), and was described by the UN Secretary-General as a “code red for humanity” (Chestney & Januta, 2021).  At a UN summit in Paris in 2015, governments of 196 nations pledged to alleviate climate change by “[reducing] their Greenhouse Gas emissions” (UNFCCC, 2016). \n",
    "\n",
    "Nations have also been taking measures to reduce emissions prior to 2015 (Quince & Phillips, 2015). Two sources of GHG emissions commonly identified are energy use, particularly for electricity, and transport use, particularly the use of cars and road transport (WWF-UK, 2021). Solutions for reducing GHG emissions come in two primary forms: conserving and being more efficient with energy use (Geneva College, 2021), and developing and deploying new technologies including renewable energy and lower-emission and zero-emission vehicles (Niranjan, 2019).\n",
    "\n",
    "In this report, we will look at how nations have been performing in reducing their greenhouse gas emissions in order to reach targets of “climate neutrality (UNFCCC, 2016). This report shall focus on OECD (The Organisation for Economic Co-operation and Development) countries with BRIICS countries (Brazil, Russia, India, Indonesia, China, South Africa) as these nations have historically and recently been major contributors to GHG emissions (OECD, 2021b). \n",
    "\n",
    "\n"
   ]
  },
  {
   "cell_type": "markdown",
   "metadata": {},
   "source": [
    "## Questions to be Answered\n",
    "\n",
    "This analysis aims to answer the following questions:\n",
    "\n",
    "I.\tOverall and per capita, which OECD and other major countries have the highest GHG emissions? Which have the lowest?\n",
    "\n",
    "II.\tHow strong are the correlations of population and GDP with GHG emissions?\n",
    "\n",
    "III.\tDo GHG emissions correlate with land size and population density?\n",
    "\n",
    "IV.\tAre there any general trends that lower per-capita emitters of GHG exhibit in their end use of energy (transport, industry, etc.)?\n",
    "\n",
    "V.\tWhich countries have had the largest GHG emission reductions from 1990 to 2018?\n",
    "\n",
    "VI.\tDo either energy conservation or renewable energy use correlate with reduced GHG emissions?\n",
    "\n",
    "VII.\tDo either reduced road use or increased efficiency (lower fuel consumption) of vehicles correlate with reduced GHG emissions? \n",
    "\n",
    "VIII.\tOf these efforts in Questions VI and VII, which were used by the countries with the largest reductions in GHG emissions?"
   ]
  },
  {
   "cell_type": "markdown",
   "metadata": {},
   "source": [
    "## Data to Use\n",
    "\n",
    "1.\tOECD Greenhouse Gas Emissions (OECD_emissions.csv)\n",
    "\n",
    "This data is sourced from the OECD.stat website (2021a). It contains GHG emission data for OECD and BRIICS countries from 1990 to 2018. This emission data will serve as the basis of the analysis in this report.\n",
    "\n",
    "2.\tWorld Bank Population, Land Area and GDP Data (WorldBank_BasicInfo.csv)\n",
    "\n",
    "This data is sourced from the World Bank data website (2021). It includes basic population, land area, and GDP information for the countries concerned corresponding to the years of the OECD.stat data.\n",
    "\n",
    "3.\tOur World in Data Per Capita Energy Use (OWID_per-capita-energy-use.csv)\n",
    "\n",
    "This data comes from the University of Oxford’s Our World in Data project and is compiled using data from the BP Statistical Review of World Energy, the Shift Project, the Maddison Project Database, and UN Population Prospects (Ritchie & Roser, 2020). It measures the use of primary energy per person in kilowatt-hours (kWh). \n",
    "\n",
    "4.\tOur World in Data Per Capita Energy Consumption from Renewables (OWID_per-capita-renewables.csv)\n",
    "\n",
    "This data is also sourced from Our World in Data, based on the BP Statistical Review of World Energy (Ritchie & Roser, 2020). It measures the use of energy per person in kWh coming from renewable energy, including wind, solar, geothermal, biomass, and other sources (BP, 2021, p. 57). \n",
    "\n",
    "5.\tOECD ITF Transport Equipment Data (OECD_ITF_equipment.csv)\n",
    "\n",
    "This data is sourced from the OECD.stat website based on data compiled by the International Transport Forum, as well as Eurostat and the UNECE (OECD, 2021c). The statistic used here is the number of road motor vehicles per one thousand inhabitants of a country. This data is annual, going back to the year 2000.\n",
    "\n",
    "\n",
    "\n"
   ]
  },
  {
   "cell_type": "markdown",
   "metadata": {},
   "source": [
    "# Analysis\n",
    "\n",
    "This analysis will primarily utilise the Python libraries Pandas and Pyplot. It will also use Geopandas, Seaborn, and Numpy. We shall begin by first importing the necessary modules."
   ]
  },
  {
   "cell_type": "code",
   "execution_count": null,
   "metadata": {},
   "outputs": [],
   "source": [
    "import matplotlib.pyplot as plt\n",
    "import pandas as pd\n",
    "import geopandas as gpd\n",
    "import seaborn as sns\n",
    "import numpy as np"
   ]
  },
  {
   "cell_type": "markdown",
   "metadata": {},
   "source": [
    "## I.\tOverall and per capita, which OECD and other major countries have the highest GHG emissions? Which have the lowest?\n",
    "\n",
    "First, we will check the levels of GHG emissions in each country concerned, both on a total and per capita basis."
   ]
  },
  {
   "cell_type": "markdown",
   "metadata": {},
   "source": [
    "### Data Preparation\n",
    "\n",
    "Before we start answering the first question, we will first load the primary data, the OECD Greenhouse Gas Emissions data, and inspect it.\n",
    "\n",
    "First, let's load the data into a dataframe and view the columns."
   ]
  },
  {
   "cell_type": "code",
   "execution_count": null,
   "metadata": {},
   "outputs": [],
   "source": [
    "oecd_emissions = pd.read_csv(\"OECD_emissions.csv\",encoding='UTF8')\n",
    "oecd_emissions.head()\n"
   ]
  },
  {
   "cell_type": "markdown",
   "metadata": {},
   "source": [
    "Let's look at the unique values of the countries, pollutants, variables, years, and their corresponding codes. "
   ]
  },
  {
   "cell_type": "code",
   "execution_count": null,
   "metadata": {},
   "outputs": [],
   "source": [
    "for i in range(0,7):\n",
    "    display(oecd_emissions.iloc[:,i].unique())"
   ]
  },
  {
   "cell_type": "markdown",
   "metadata": {},
   "source": [
    "For the purposes of this analysis, we will just focus on greenhouse gases as a whole."
   ]
  },
  {
   "cell_type": "code",
   "execution_count": null,
   "metadata": {},
   "outputs": [],
   "source": [
    "oecd_emissions = oecd_emissions[oecd_emissions['POL'] == 'GHG']"
   ]
  },
  {
   "cell_type": "markdown",
   "metadata": {},
   "source": [
    "Next, we will check that there are no text or null values in the data. "
   ]
  },
  {
   "cell_type": "code",
   "execution_count": null,
   "metadata": {},
   "outputs": [],
   "source": [
    "def value_check(df_name, col_name):\n",
    "    #Function to check whether there is text or null values in a given column.\n",
    "    nullcheck = df_name[df_name[col_name].isnull() == True]\n",
    "    stringcheck = pd.to_numeric(df_name[col_name],errors='coerce')\n",
    "    stringcheck = stringcheck[stringcheck.isnull() == True]\n",
    "    error_rows = stringcheck.index.values.tolist() + nullcheck.index.values.tolist()\n",
    "    return df_name.loc[error_rows]\n",
    "    \n",
    "display(value_check(oecd_emissions,'Value'))"
   ]
  },
  {
   "cell_type": "markdown",
   "metadata": {},
   "source": [
    "It appears that there are no missing cells. However, the structure of this data could mean that there could be some countries where not all data is for 2018. \n",
    "The first questions in particular will focus on the latest data available, so let's get the latest year and put it in a dataframe."
   ]
  },
  {
   "cell_type": "code",
   "execution_count": null,
   "metadata": {},
   "outputs": [],
   "source": [
    "latest_data = oecd_emissions[oecd_emissions['VAR'] == 'TOTAL'].\\\n",
    "    pivot_table(index = ['COU','Country'],values = 'Year',aggfunc='max').reset_index()\n",
    "display(latest_data)"
   ]
  },
  {
   "cell_type": "markdown",
   "metadata": {},
   "source": [
    "While the OECD average might be good to look at, we will remove the EU and OECD-Europe rows for our purposes."
   ]
  },
  {
   "cell_type": "code",
   "execution_count": null,
   "metadata": {},
   "outputs": [],
   "source": [
    "latest_data = latest_data.drop([16,38]).reset_index(drop=True)\n",
    "display(latest_data)"
   ]
  },
  {
   "cell_type": "markdown",
   "metadata": {},
   "source": [
    "For the first questions, we would like to show the data on a world map, so we will import the world map from GeoPandas."
   ]
  },
  {
   "cell_type": "code",
   "execution_count": null,
   "metadata": {},
   "outputs": [],
   "source": [
    "world = gpd.read_file(gpd.datasets.get_path('naturalearth_lowres'))\n",
    "world.head()"
   ]
  },
  {
   "cell_type": "markdown",
   "metadata": {},
   "source": [
    "One pitfall of this \"naturalearth_lowres\" data is that some country codes are not proper (Iorifan, 2021). This includes France. Let's solve that first. \n",
    "\n",
    "The Turkish Republic of Northern Cyprus does not have globally accepted recognition (Deutsche Welle, 2021) and therefore does not have an ISO code (ISO, 2021). Since this is not in the scope of our analysis, we will leave it as is."
   ]
  },
  {
   "cell_type": "code",
   "execution_count": null,
   "metadata": {},
   "outputs": [],
   "source": [
    "display(world[world['iso_a3'] == '-99'][['iso_a3','name']])\n",
    "\n",
    "world.loc[world['name'] == 'Norway', 'iso_a3'] = 'NOR'\n",
    "world.loc[world['name'] == 'France', 'iso_a3'] = 'FRA'\n",
    "world.loc[world['name'] == 'Somaliland', 'iso_a3'] = 'SOM'\n",
    "world.loc[world['name'] == 'Kosovo', 'iso_a3'] = 'RKS'\n",
    "\n",
    "display(world[world['iso_a3'] == '-99'][['iso_a3','name']])"
   ]
  },
  {
   "cell_type": "markdown",
   "metadata": {},
   "source": [
    "### Analysis\n",
    "\n",
    "For the first question, we will place the appropriate total GHG and the per capita GHG data on the Latest Data table. "
   ]
  },
  {
   "cell_type": "code",
   "execution_count": null,
   "metadata": {},
   "outputs": [],
   "source": [
    "latest_data = pd.merge(latest_data,oecd_emissions[oecd_emissions['VAR'] == 'TOTAL'][['COU','Year','Value']],how='left',on=['COU','Year'])\n",
    "latest_data = pd.merge(latest_data,oecd_emissions[oecd_emissions['VAR'] == 'GHG_CAP'][['COU','Year','Value']],how='left',on=['COU','Year'])\n",
    "\n",
    "latest_data = latest_data.rename(columns={\"Value_x\":\"Total GHG (CO2e, kt)\", \"Value_y\":\"GHG Per Capita (CO2e, t)\"})\n",
    "\n",
    "display(latest_data)"
   ]
  },
  {
   "cell_type": "markdown",
   "metadata": {},
   "source": [
    "Now, the data will be plotted onto maps."
   ]
  },
  {
   "cell_type": "code",
   "execution_count": null,
   "metadata": {},
   "outputs": [],
   "source": [
    "world_stat = pd.merge(world,latest_data,how='left',left_on='iso_a3',right_on='COU')\n",
    "\n",
    "world_stat.plot(column = 'Total GHG (CO2e, kt)',\n",
    " legend=True,\n",
    " legend_kwds={'label': \"GHG emissions (total, CO2e, kt)\",'orientation': \"horizontal\"},\n",
    " missing_kwds={\"color\": \"lightgrey\"}\n",
    ")\n",
    "plt.show()"
   ]
  },
  {
   "cell_type": "markdown",
   "metadata": {},
   "source": [
    "With the exception of the major economies such as the US, China, and Russia, most countries appear to be around or below the 200 million ton mark for total GHG emissions.\n",
    "\n",
    "Let's look at the per capita data now."
   ]
  },
  {
   "cell_type": "code",
   "execution_count": null,
   "metadata": {},
   "outputs": [],
   "source": [
    "\n",
    "world_stat.plot(column = 'GHG Per Capita (CO2e, t)',\n",
    " legend=True,\n",
    " legend_kwds={'label': \"GHG emissions (per cpaita, CO2e, t)\",'orientation': \"horizontal\"},\n",
    " missing_kwds={\"color\": \"lightgrey\"}\n",
    ")\n",
    "plt.show()"
   ]
  },
  {
   "cell_type": "markdown",
   "metadata": {},
   "source": [
    "Per capita, the results get more interesting. Australia seems to have the highest emissions per capita, followed by the US and Canada. \n",
    "\n",
    "Let's sort the table by GHG per capita to get a better picture.  "
   ]
  },
  {
   "cell_type": "code",
   "execution_count": null,
   "metadata": {},
   "outputs": [],
   "source": [
    "percapita_table = latest_data.sort_values(by='GHG Per Capita (CO2e, t)',ascending=False).reset_index(drop=True)\n",
    "\n",
    "display(percapita_table)"
   ]
  },
  {
   "cell_type": "markdown",
   "metadata": {},
   "source": [
    "Indeed, the US, Australia, and Canada are the top per capita emitters, while India, Costa Rica, and Colombia are the lowest emitters. A look at this table would suggest that GDP (gross domestic product) per capita, or the relative wealth of a nation, plays a significant role in GHG emissions. One other observation is that, with some exceptions, countries which are large in physical land size also seem to float to the top, whereas the bottom half has many physically smaller countries. A cursory glance suggests there may be a weak correlation; we shall explore that later."
   ]
  },
  {
   "cell_type": "markdown",
   "metadata": {},
   "source": [
    "## II.\tHow strong are the correlations of population and GDP with GHG emissions?\n",
    "Population and economic activity have been long understood as major contributors to GHG emissions (Dietz & Rosa, 1997). Here, we would like to compare the correlation of these two factors and see whether population or GDP has a greater influence. \n"
   ]
  },
  {
   "cell_type": "markdown",
   "metadata": {},
   "source": [
    "### Data Preparation\n",
    "We must first import and prepare the data on population, land area, and GDP data from the World Bank.  "
   ]
  },
  {
   "cell_type": "code",
   "execution_count": null,
   "metadata": {},
   "outputs": [],
   "source": [
    "wb_stats = pd.read_csv(\"WorldBank_BasicInfo.csv\",encoding=\"UTF-8\")\n",
    "wb_stats = wb_stats.rename(columns={\"Country Code\": \"COU\"}) #Change column name to make merging easier. \n",
    "\n",
    "display(value_check(wb_stats,'1990'))  #Check for string and null values. "
   ]
  },
  {
   "cell_type": "markdown",
   "metadata": {},
   "source": [
    "It appears that missing data is marked by text (\"..\"). We will replace this with null values."
   ]
  },
  {
   "cell_type": "code",
   "execution_count": null,
   "metadata": {},
   "outputs": [],
   "source": [
    "wb_stats = wb_stats.replace('..',np.nan)\n",
    "\n",
    "value_check(wb_stats,'1990').head()"
   ]
  },
  {
   "cell_type": "markdown",
   "metadata": {},
   "source": [
    "For the next two questions, we will need the appropriate year's data for population, GDP, GDP per capita, land area, and density. We will import population, GDP, GDP per capita, and land area, then calculate the density (population over land area). In this step, we will also ensure all data is treated as numeric."
   ]
  },
  {
   "cell_type": "code",
   "execution_count": null,
   "metadata": {},
   "outputs": [],
   "source": [
    "to_add = ['Land area (sq. km)','Population, total','GDP (current US$)','GDP per capita (current US$)']\n",
    "\n",
    "for series in to_add: #Loop through each data series\n",
    "    latest_data[series] = \"\" #Create column for each data series\n",
    "    for row in range(0,len(latest_data.index)): #Loop through each row of latest data column. \n",
    "        #Get the value for each country in the appropriate year. \n",
    "        year = str(latest_data.at[row,'Year'])\n",
    "        target = wb_stats[(wb_stats['COU'] == latest_data.at[row,'COU']) & (wb_stats['Series Name'] == series)][year]\n",
    "        try:\n",
    "            target = target.values[0]\n",
    "        except:\n",
    "            target = np.nan\n",
    "        latest_data.at[row,series] = target\n",
    "    latest_data[series] = pd.to_numeric(latest_data[series],errors='coerce') #Ensure all given data is numeric.\n",
    "        \n",
    "latest_data[\"Density (pop/km2)\"] = latest_data[\"Population, total\"] / latest_data[\"Land area (sq. km)\"]\n",
    "display(value_check(latest_data,'Land area (sq. km)' or 'Population, total' or 'GDP (current US$)' or 'GDP per capita (current US$)')) #check for nulls or text\n",
    "latest_data.head()"
   ]
  },
  {
   "cell_type": "markdown",
   "metadata": {},
   "source": [
    "### Analysis\n",
    "\n",
    "Now, we will plot GHG emissions on graphs, comparing the levels of countries to their population and GDP. Due to the differences in scale amongst countries, the plots will employ a logarithmic scale. \n",
    "We will also give the Pearson correlation coefficient in a table. "
   ]
  },
  {
   "cell_type": "code",
   "execution_count": null,
   "metadata": {},
   "outputs": [],
   "source": [
    "latest_data_plt = latest_data.set_index('COU')\n",
    "def plotlabels(df,x_val,y_val): #Function to make plot labels.\n",
    "    x = df[x_val].tolist()\n",
    "    y = df[y_val].tolist()\n",
    "    labels = df.index.tolist()\n",
    "\n",
    "    for i in range(0,len(labels)):\n",
    "        plt.text(x[i],y[i],labels[i],fontsize='x-small')\n",
    "    \n",
    "    return 0\n",
    "\n",
    "latest_data_plt.plot(\n",
    "    kind = 'scatter',\n",
    "    x = 'Total GHG (CO2e, kt)',\n",
    "    y = 'Population, total',\n",
    "    logx = True,\n",
    "    logy = True,\n",
    ")\n",
    "\n",
    "plotlabels(latest_data_plt,'Total GHG (CO2e, kt)','Population, total')\n",
    "plt.show()\n",
    "\n",
    "latest_data_plt.plot(\n",
    "    kind = 'scatter',\n",
    "    x = 'Total GHG (CO2e, kt)',\n",
    "    y = 'GDP (current US$)',\n",
    "    logx = True,\n",
    "    logy = True,\n",
    ")\n",
    "\n",
    "plotlabels(latest_data_plt,'Total GHG (CO2e, kt)','GDP (current US$)')\n",
    "plt.show()\n",
    "\n",
    "display(latest_data[['Total GHG (CO2e, kt)','Population, total','GDP (current US$)']].corr())\n",
    "\n"
   ]
  },
  {
   "cell_type": "markdown",
   "metadata": {},
   "source": [
    "Both scatterplots suggest strong correlation, and indeed the Pearson coefficients are high for both. GDP, in fact, correlates slightly higher than population does. The numbers are so close, however, that it is safe to say that both population and economic activity correlate with GHG emissions similarly.\n",
    "\n",
    "Let's drill down on population and analyse the correlation between GHG emissions per capita and GDP per capita. "
   ]
  },
  {
   "cell_type": "code",
   "execution_count": null,
   "metadata": {},
   "outputs": [],
   "source": [
    "latest_data_plt.plot(\n",
    "    kind = 'scatter',\n",
    "    x = 'GHG Per Capita (CO2e, t)',\n",
    "    y = 'GDP per capita (current US$)',\n",
    ")\n",
    "\n",
    "plotlabels(latest_data_plt,'GHG Per Capita (CO2e, t)','GDP per capita (current US$)')\n",
    "plt.show()\n",
    "\n",
    "display(latest_data[['GHG Per Capita (CO2e, t)','GDP per capita (current US$)']].corr())"
   ]
  },
  {
   "cell_type": "markdown",
   "metadata": {},
   "source": [
    "Per capita, the correlation between GHG emissions and GDP is considerably lower; it seems to become more inconsistent the higher either GHG or GDP per capita is in a country. This would suggest that the high correlation with GDP is more strongly associated with GDP's correlation with population. "
   ]
  },
  {
   "cell_type": "markdown",
   "metadata": {},
   "source": [
    "## III.\tDo GHG emissions correlate with land size and population density?\n",
    "\n",
    "Whereas population and GDP are well known to correlate with GHG emissions (Dietz & Rosa, 1997), less has been said about physical area. While it was impossible to conclude in the previous Question I, there was a tendency for physically larger countries to also cause high emissions. It might be possible that the extra energy required to connect a large nation could impact GHG emissions.\n",
    "\n",
    "### Data Preparation\n",
    "\n",
    "Data preparation for this question was performed for Question II."
   ]
  },
  {
   "cell_type": "markdown",
   "metadata": {},
   "source": [
    "### Analysis\n",
    "\n",
    "Let's first look at the correlation between total GHG emissions and the land area (in km2) of the countries concerned."
   ]
  },
  {
   "cell_type": "code",
   "execution_count": null,
   "metadata": {},
   "outputs": [],
   "source": [
    "latest_data_plt.plot(\n",
    "    kind = 'scatter',\n",
    "    x = 'Total GHG (CO2e, kt)',\n",
    "    y = 'Land area (sq. km)',\n",
    "    logx = True,\n",
    "    logy = True,\n",
    ")\n",
    "\n",
    "plotlabels(latest_data_plt,'Total GHG (CO2e, kt)','Land area (sq. km)')\n",
    "plt.show()\n",
    "\n",
    "display(latest_data[['Total GHG (CO2e, kt)','Land area (sq. km)','Population, total','GDP (current US$)']].corr())"
   ]
  },
  {
   "cell_type": "markdown",
   "metadata": {},
   "source": [
    "Correlation between land area and total GHG is rather strong, only slightly behind population and GDP. \n",
    "\n",
    "Let's now drill down on population, and look at the correlation between GHG per capita and population density. "
   ]
  },
  {
   "cell_type": "code",
   "execution_count": null,
   "metadata": {},
   "outputs": [],
   "source": [
    "latest_data_plt.plot(\n",
    "    kind = 'scatter',\n",
    "    x = 'GHG Per Capita (CO2e, t)',\n",
    "    y = 'Density (pop/km2)',\n",
    ")\n",
    "\n",
    "plotlabels(latest_data_plt,'GHG Per Capita (CO2e, t)','Density (pop/km2)')\n",
    "plt.show()\n",
    "\n",
    "display(latest_data[['GHG Per Capita (CO2e, t)','Density (pop/km2)','GDP per capita (current US$)']].corr())"
   ]
  },
  {
   "cell_type": "markdown",
   "metadata": {},
   "source": [
    "GHG per capita appears to have no correlation with population density. While negative numbers are expected as the potential correlation would be inverse, the coefficient is close to zero. The scatter plot is also dispersed. \n",
    "\n",
    "From this analysis, it appears that while land area is correlated with total GHG emissions, population density is not correlated with per capita emissions. This would imply in turn that the land area correlation is more to do with physically larger countries generally having larger populations. "
   ]
  },
  {
   "cell_type": "markdown",
   "metadata": {},
   "source": [
    "## IV.\tAre there any general trends that lower per-capita emitters of GHG exhibit in their end use of energy (transport, industry, etc.)?\n",
    "\n",
    "For this, we will make profiles of the source of GHG emissions for each country, the data for which is contained in the OECD emissions file. "
   ]
  },
  {
   "cell_type": "markdown",
   "metadata": {},
   "source": [
    "### Data Preparation\n",
    "\n",
    "First, we shall append the data to the table for per capita figures. \n",
    "We will only observe nations for which all data is available. "
   ]
  },
  {
   "cell_type": "code",
   "execution_count": null,
   "metadata": {},
   "outputs": [],
   "source": [
    "energy_cats = {'ENER_IND_P':'Energy Industries',\n",
    "    'ENER_MANUF_P':'Manufacturing industries and construction',\n",
    "    'ENER_TRANS_P':'Transport',\n",
    "    'ENER_OSECT_P':'Residential and other sectors',\n",
    "    'ENER_OTH_P':'Energy - Other',\n",
    "    'ENER_FU_P':'Fugitive Emissions from Fuels',\n",
    "    'IND_PROC_P':'Industrial processes and product use',\n",
    "    'AGR_P':'Agriculture',\n",
    "    'WAS_P':'Waste'}\n",
    "\n",
    "for cat, category in energy_cats.items():\n",
    "    percapita_table = pd.merge(percapita_table,oecd_emissions[oecd_emissions['VAR'] == cat][['COU','Year','Value']],how='left',on=['COU','Year'])\n",
    "    percapita_table.columns = [*percapita_table.columns[:-1], category]\n",
    "percapita_table = percapita_table.dropna().reset_index(drop=True)\n",
    "\n",
    "display(percapita_table)"
   ]
  },
  {
   "cell_type": "markdown",
   "metadata": {},
   "source": [
    "### Analysis\n",
    "\n",
    "We will now plot the energy use profiles of the countries."
   ]
  },
  {
   "cell_type": "code",
   "execution_count": null,
   "metadata": {},
   "outputs": [],
   "source": [
    "comp = percapita_table.iloc[:,np.r_[0,-9:-0]]\n",
    "\n",
    "ax = comp.plot(kind = 'bar', x='COU', stacked=True,figsize=[8,4], ylabel=\"%\")\n",
    "ax.legend(loc='right',bbox_to_anchor=(1.6,0.33)) \n",
    "plt.show()"
   ]
  },
  {
   "cell_type": "markdown",
   "metadata": {},
   "source": [
    "The profiles do not reveal any remarkable trends. All countries have varying amounts of emissions from the energy industry (which includes electricity generation), industrial processes, agriculture, and transport. "
   ]
  },
  {
   "cell_type": "markdown",
   "metadata": {},
   "source": [
    "## V.\tWhich countries have had the largest GHG emission reductions from 1990 to 2018?\n",
    "\n",
    "Now we have an understanding of greenhouse gas emissions in their recent state. However, as countries look to reduce their emissions from previous levels, it would be helpful to analyse the change over time of greenhouse gas emissions. Which countries have had the largest reductions over the last three decades?\n",
    "\n",
    "We will look at the change in emissions over time on both a per capita basis and a GDP-relative basis."
   ]
  },
  {
   "cell_type": "markdown",
   "metadata": {},
   "source": [
    "### Data Preparation\n",
    "\n",
    "First, we must make time series for the data. \n",
    "We will also record these countries with complete data as \"focus countries\" which we will focus on in subsequent questions. "
   ]
  },
  {
   "cell_type": "code",
   "execution_count": null,
   "metadata": {},
   "outputs": [],
   "source": [
    "def oecd_make_time_series(df,var): #Function for making time series from OECD data\n",
    "\n",
    "    countries = df[df['VAR'] == var]['COU'].unique().tolist()\n",
    "\n",
    "\n",
    "    time_series = pd.DataFrame()\n",
    "\n",
    "    for cou in countries:\n",
    "        country_line = df[(df['COU'] == cou) & (df['VAR'] == var)][['Year','Value']]\n",
    "        country_line = country_line.set_index('Year')\n",
    "        country_line = country_line.rename(columns={'Value':cou})\n",
    "        \n",
    "        time_series[cou] = country_line    \n",
    "    \n",
    "    return time_series\n",
    "\n",
    "capita_time = oecd_make_time_series(oecd_emissions,'GHG_CAP')  \n",
    "focus_countries = capita_time.columns.tolist() #Make list of focus countries\n",
    "\n",
    "display(capita_time.iloc[0:5]) #Show first five rows for verification.\n",
    "\n",
    "gdp_time = oecd_make_time_series(oecd_emissions,'GHG_GDP')  \n",
    "\n",
    "display(gdp_time.iloc[0:5]) \n",
    "\n"
   ]
  },
  {
   "cell_type": "markdown",
   "metadata": {},
   "source": [
    "Next, we will make tables that summarise the time series. These will be data frames that show the figure in 1990, 2018, and the rate of change. \n",
    "Only countries with data for 1990 and 2018 will be shown in these tables. "
   ]
  },
  {
   "cell_type": "code",
   "execution_count": null,
   "metadata": {},
   "outputs": [],
   "source": [
    "def rate_of_change(df,yrmin='1990',yrmax='2018',): #Function to make change summary table\n",
    "    new_df = df.transpose()\n",
    "    new_df = new_df.rename_axis('Country')\n",
    "    new_df.columns = new_df.columns.astype(str)\n",
    "    new_df['Change (%)'] = (new_df[yrmax] / new_df[yrmin] - 1) * 100\n",
    "    \n",
    "    new_df = new_df[[yrmin,yrmax,'Change (%)']]\n",
    "    new_df = new_df.dropna().sort_values(by='Change (%)')\n",
    "    return new_df\n",
    "\n",
    "capita_change = rate_of_change(capita_time)\n",
    "display(capita_change.iloc[0:5])\n",
    "gdp_change = rate_of_change(gdp_time)\n",
    "display(gdp_change.iloc[0:5])"
   ]
  },
  {
   "cell_type": "markdown",
   "metadata": {},
   "source": [
    "### Analysis\n",
    "\n",
    "Let's look at how the countries have reduced their per capita emissions over time."
   ]
  },
  {
   "cell_type": "code",
   "execution_count": null,
   "metadata": {},
   "outputs": [],
   "source": [
    "display(capita_change)\n",
    "\n",
    "fig, ax = plt.subplots()\n",
    "\n",
    "sns.scatterplot(\n",
    "    data = capita_change,\n",
    "    x = \"2018\",\n",
    "    y = \"1990\",\n",
    "    hue = 'Change (%)',\n",
    "    palette = 'Spectral',\n",
    "    ax=ax,\n",
    ").set_title('GHG per capita')\n",
    "\n",
    "plotlabels(capita_change,\"2018\",\"1990\")\n",
    "\n",
    "straightline = pd.DataFrame([{'2018':1,'1990':1}])\n",
    "for i in range (2,int(capita_change[['1990','2018']].max().max())):\n",
    "    straightline = straightline.append({'2018':i,'1990':i},ignore_index=True)\n",
    "\n",
    "straightline.plot(\n",
    "    kind='line',\n",
    "    x='2018',\n",
    "    y='1990',\n",
    "    legend=False,\n",
    "    ax=ax,\n",
    ")\n",
    "\n",
    "plt.show()\n"
   ]
  },
  {
   "cell_type": "markdown",
   "metadata": {},
   "source": [
    "It seems most countries have reduced their per capita GHG emissions over time. In fact, only two (Portugal and Turkey) have increased their per capita emissions from 1990 to 2018. OECD nations have on average decreased their per capita emissions by 15.6%.\n",
    "\n",
    "Let's use a plot with a regression trendline to see which countries did the best."
   ]
  },
  {
   "cell_type": "code",
   "execution_count": null,
   "metadata": {},
   "outputs": [],
   "source": [
    "ax = sns.regplot(\n",
    "    x = \"2018\",\n",
    "    y = \"1990\",\n",
    "    data = capita_change,\n",
    ").set_title('GHG per capita, with trendline')\n",
    "\n",
    "plotlabels(capita_change,\"2018\",\"1990\")\n",
    "\n",
    "plt.show()    \n"
   ]
  },
  {
   "cell_type": "markdown",
   "metadata": {},
   "source": [
    "The UK (GBR), Estonia (EST) and Luxembourg (LUX) stand out as high performers in GHG reduction. \n",
    "\n",
    "Next, we will look at GHG emissions per unit of GDP (tons per USD$1,000)."
   ]
  },
  {
   "cell_type": "code",
   "execution_count": null,
   "metadata": {},
   "outputs": [],
   "source": [
    "display(gdp_change)\n",
    "\n",
    "fig, ax = plt.subplots()\n",
    "\n",
    "sns.scatterplot(\n",
    "    data = gdp_change,\n",
    "    x = \"2018\",\n",
    "    y = \"1990\",\n",
    "    hue = 'Change (%)',\n",
    "    palette = 'Spectral',\n",
    "    ax=ax,\n",
    ").set_title('GHG per $1,000USD of GDP')\n",
    "\n",
    "plotlabels(gdp_change,\"2018\",\"1990\")\n",
    "\n",
    "straightline = pd.DataFrame([{'2018':1,'1990':1}])\n",
    "for i in range (0,int(gdp_change[['1990','2018']].max().max())):\n",
    "    straightline = straightline.append({'2018':i,'1990':i},ignore_index=True)\n",
    "\n",
    "straightline.plot(\n",
    "    kind='line',\n",
    "    x='2018',\n",
    "    y='1990',\n",
    "    legend=False,\n",
    "    ax=ax,\n",
    ")\n",
    "\n",
    "plt.show()\n",
    "\n",
    "ax = sns.regplot(\n",
    "    x = \"2018\",\n",
    "    y = \"1990\",\n",
    "    data = gdp_change,\n",
    ").set_title('GHG per USD$1,000 of GDP, with trendline')\n",
    "\n",
    "plotlabels(gdp_change,\"2018\",\"1990\")\n",
    "\n",
    "plt.show()  "
   ]
  },
  {
   "cell_type": "markdown",
   "metadata": {},
   "source": [
    "Interestingly, it seems all countries here have been more economically productive at lower emissions, in particular Ireland (IRL), Slovakia (SVK), and Poland (POL). The OECD average decrease over this time period was a reduction of 44.1%.\n",
    "\n",
    "It is good to see that most OECD nations have reduced their emissions on a per capita basis. The next line of investigation should then involve how they have been achieving this. In the next two questions, we will analyse some possible factors.  "
   ]
  },
  {
   "cell_type": "markdown",
   "metadata": {},
   "source": [
    "## VI. Do either energy saving efforts or renewable energy adoption correlate with reduced GHG emissions?\n",
    "\n",
    "First, we will look at energy use. Do the efforts to increase energy efficiency or conserve energy use correlate with the reduced emissions? How about increased renewable energy use?  Both are recognised as methods to reduce climate change, including by the UK Government (2020), which itself has proven to have made strong progress in reducing emissions in this analysis so far."
   ]
  },
  {
   "cell_type": "markdown",
   "metadata": {},
   "source": [
    "### Data Preparation\n",
    "\n",
    "We will start by importing the data for per capita energy use and renewable energy use, both from Our World in Data (Ritchie & Roser, 2020). We will import the data into a time series dataframe, then make a table summary change similar to the ones above. First, we will manipulate the energy use data."
   ]
  },
  {
   "cell_type": "code",
   "execution_count": null,
   "metadata": {},
   "outputs": [],
   "source": [
    "def wid_make_time_series(df,var): #Time series generator function for Our World in Data files.\n",
    "    countries = focus_countries\n",
    "\n",
    "    time_series = pd.DataFrame()\n",
    "\n",
    "    for cou in countries:\n",
    "        country_line = df[df['Code'] == cou][['Year',var]]\n",
    "        country_line = country_line.set_index('Year')\n",
    "        country_line = country_line.rename(columns={var:cou})\n",
    "        \n",
    "        time_series = pd.concat([time_series, country_line],axis=1)\n",
    "\n",
    "    #time_series = time_series.index.map(str)    \n",
    "    return time_series\n",
    "\n",
    "energy_use = pd.read_csv(\"OWID_per-capita-energy-use.csv\")\n",
    "display(energy_use.iloc[0:5])\n",
    "\n",
    "energy_ts = wid_make_time_series(energy_use,\"Energy consumption per capita (kWh)\")\n",
    "energy_ts = energy_ts.dropna(axis=1) #Drop countries for which data is incomplete.\n",
    "display(energy_ts.iloc[0:5])\n",
    "\n",
    "energy_ts_chg = rate_of_change(energy_ts)\n",
    "display(energy_ts_chg.iloc[0:5])\n"
   ]
  },
  {
   "cell_type": "markdown",
   "metadata": {},
   "source": [
    "Now, we will do the same for the renewable energy use data."
   ]
  },
  {
   "cell_type": "code",
   "execution_count": null,
   "metadata": {},
   "outputs": [],
   "source": [
    "renewables = pd.read_csv(\"OWID_per-capita-renewables.csv\")\n",
    "renewables = renewables.replace(0,np.nan) #Converts 0 values to null values\n",
    "renew_ts = wid_make_time_series(renewables,\"Renewables per capita (kWh)\")\n",
    "renew_ts = renew_ts.dropna(axis=1)\n",
    "display(renew_ts.iloc[0:5])\n",
    "\n",
    "renew_ts_chg = rate_of_change(renew_ts,'1990','2018')\n",
    "renew_ts_chg = renew_ts_chg.sort_values(by='Change (%)',ascending=False)\n",
    "display(renew_ts_chg.iloc[0:5])"
   ]
  },
  {
   "cell_type": "markdown",
   "metadata": {},
   "source": [
    "Next, we will summarise the change values into one dataframe. "
   ]
  },
  {
   "cell_type": "code",
   "execution_count": null,
   "metadata": {},
   "outputs": [],
   "source": [
    "allfactors = capita_change['Change (%)'].to_frame(name='GHG Change (%)')\n",
    "\n",
    "def merge_change_vals(result,source,columnname):\n",
    "    new_df = pd.merge(result,source['Change (%)'].to_frame(name=columnname),left_index=True,right_index=True,how=\"left\")\n",
    "    return new_df \n",
    "\n",
    "allfactors = merge_change_vals(allfactors, energy_ts_chg, 'Energy Use Change (%)')\n",
    "allfactors = merge_change_vals(allfactors, renew_ts_chg, 'Renewables Change (%)')\n",
    "\n",
    "allfactors.head()"
   ]
  },
  {
   "cell_type": "markdown",
   "metadata": {},
   "source": [
    "### Analysis\n",
    "\n",
    "Let's see how energy use and renewable use correlated overall with GHG change."
   ]
  },
  {
   "cell_type": "code",
   "execution_count": null,
   "metadata": {},
   "outputs": [],
   "source": [
    "display(allfactors.dropna())\n",
    "\n",
    "sns.pairplot(data = allfactors)\n",
    "plt.show()\n",
    "\n",
    "display(allfactors.corr())"
   ]
  },
  {
   "cell_type": "markdown",
   "metadata": {},
   "source": [
    "Reductions in energy use are well correlated with the change in GHG emissions. The adoption of renewable energy, on the other hand, shows little correlation. "
   ]
  },
  {
   "cell_type": "markdown",
   "metadata": {},
   "source": [
    "## VII.\tDo either reduced road use or increased efficiency (lower fuel consumption) of road vehicles correlate with reduced GHG emissions? \n",
    "\n",
    "Another common theme of reducing greenhouse gas emissions is reducing car use. An alternative to reducing use outright is car use is the production of more fuel-efficient vehicles and vehicles that use no fuel, such as electric vehicles. The UK Government here is also implementing such measures (2020).\n",
    "\n",
    "The specific indicators we will look at come from OECD data (2021c). We will look at the number of road motor vehicles per one million persons, and the motor fuel deliveries per road motor vehicle, measured in tons of fuel. "
   ]
  },
  {
   "cell_type": "markdown",
   "metadata": {},
   "source": [
    "### Data Preparation\n",
    "\n",
    "We will create the data in a similar fashion to the previous question. \n",
    "As the range of data is more limited, the start and end years will be modified."
   ]
  },
  {
   "cell_type": "code",
   "execution_count": null,
   "metadata": {},
   "outputs": [],
   "source": [
    "car_use = pd.read_csv(\"OECD_ITF_equipment.csv\")\n",
    "\n",
    "car_use_ts = oecd_make_time_series(car_use,\"IND-EQUI-MOTVEH-PC\")\n",
    "display(car_use_ts.iloc[0:5])\n",
    "\n",
    "car_use_ts_chg = rate_of_change(car_use_ts,\"2000\",\"2018\")\n",
    "display(car_use_ts_chg.iloc[0:5])\n",
    "\n",
    "fuelpercar = pd.read_csv(\"OECD_ITF_environment.csv\")\n",
    "\n",
    "fuelpercar_ts = oecd_make_time_series(fuelpercar,\"IND-ENE-FUEL-VEH\")\n",
    "display(fuelpercar_ts.iloc[0:5])\n",
    "\n",
    "fuelpercar_ts_chg = rate_of_change(fuelpercar_ts,\"2003\",\"2018\")\n",
    "display(fuelpercar_ts_chg.iloc[0:5])\n",
    "\n",
    "allfactors = merge_change_vals(allfactors, car_use_ts_chg, 'Car Use Change (%)')\n",
    "allfactors = merge_change_vals(allfactors, fuelpercar_ts_chg, 'Fuel Per Car Change (%)')\n",
    "display(allfactors.iloc[0:5])"
   ]
  },
  {
   "cell_type": "markdown",
   "metadata": {},
   "source": [
    "### Analysis\n",
    "\n",
    "Let's look at how car use and fuel per car correlates with the reduction in GHG. "
   ]
  },
  {
   "cell_type": "code",
   "execution_count": null,
   "metadata": {},
   "outputs": [],
   "source": [
    "roadfactors = allfactors[[\"GHG Change (%)\",\"Car Use Change (%)\",\"Fuel Per Car Change (%)\"]]\n",
    "\n",
    "display(roadfactors.dropna())\n",
    "\n",
    "sns.pairplot(data = roadfactors)\n",
    "plt.show()\n",
    "\n",
    "display(allfactors.corr())"
   ]
  },
  {
   "cell_type": "markdown",
   "metadata": {},
   "source": [
    "It appears that the OECD countries have not significantly altered their use of motor vehicles in the same way they have invested in energy conservation or renewable energy. In fact, no country has decreased car usage, and fuel usage per vehicle has only decreased in some countries. \n",
    "It is, therefore, no surprise that reductions in either car use or fuel per car seems to have much correlation with GHG reductions.\n",
    "\n",
    "Does this mean that road vehicle use is unimportant? As supplementary analysis, we will quickly compare the recent car use and fuel use with the GHG per capita"
   ]
  },
  {
   "cell_type": "code",
   "execution_count": null,
   "metadata": {},
   "outputs": [],
   "source": [
    "latest_data[\"Car Use\"] = \"\"\n",
    "latest_data[\"Fuel Use\"] = \"\"\n",
    "for row in range(0,len(latest_data.index)): \n",
    "    #Match appropriate data with values in year and country code column in the latest data column. \n",
    "    cou = latest_data.at[row,'COU']\n",
    "    year = latest_data.at[row,'Year']\n",
    "    try:\n",
    "        target_car = car_use_ts.at[year,cou]\n",
    "    except:\n",
    "        target_car = np.nan #Give null value if data cannot be found.\n",
    "    try:\n",
    "        target_fuel = fuelpercar_ts.at[year,cou]\n",
    "    except:\n",
    "        target_fuel = np.nan\n",
    "    latest_data.at[row,\"Car Use\"] = target_car\n",
    "    latest_data.at[row,\"Fuel Use\"] = target_fuel\n",
    "latest_data[\"Car Use\"] = pd.to_numeric(latest_data[\"Car Use\"],errors='coerce')\n",
    "latest_data[\"Fuel Use\"] = pd.to_numeric(latest_data[\"Fuel Use\"],errors='coerce')\n",
    "\n",
    "ghg_vs_car = latest_data[['COU','GHG Per Capita (CO2e, t)','Car Use','Fuel Use']].sort_values(by='GHG Per Capita (CO2e, t)',ascending=False)\n",
    "\n",
    "display(ghg_vs_car)\n",
    "\n",
    "sns.pairplot(data=ghg_vs_car)\n",
    "plt.show()\n",
    "\n",
    "display(ghg_vs_car.corr())"
   ]
  },
  {
   "cell_type": "markdown",
   "metadata": {},
   "source": [
    "The coefficients here still show weak correlation, though they are higher than those for the changes. It is definitely possible that reducing car and fuel use can reduce GHG emissions, but it does not seem to be a major factor that differentiates OECD nations. "
   ]
  },
  {
   "cell_type": "markdown",
   "metadata": {},
   "source": [
    "## VIII. Of these efforts in Questions VI and VII, which were used by the countries with the largest reductions in GHG emissions?\n",
    "\n",
    "Let's look at some of the countries that have had the most success in reducing GHG emissions. We will look at the five countries with the highest reductions for which the most data is available, and look at the changes in energy use, renewable energy use, car use, and fuel use. "
   ]
  },
  {
   "cell_type": "markdown",
   "metadata": {},
   "source": [
    "### Data Preparation\n",
    "\n",
    "We will get the top five countries for which all change data is available."
   ]
  },
  {
   "cell_type": "code",
   "execution_count": null,
   "metadata": {},
   "outputs": [],
   "source": [
    "top5 = allfactors.dropna()\n",
    "top5 = top5.iloc[0:5,:]\n",
    "\n",
    "top5list = top5.index.tolist() #Store the top 5 country codes in a list.\n"
   ]
  },
  {
   "cell_type": "markdown",
   "metadata": {},
   "source": [
    "### Analysis\n",
    "\n",
    "Now, we will show the changes in bar charts."
   ]
  },
  {
   "cell_type": "code",
   "execution_count": null,
   "metadata": {},
   "outputs": [],
   "source": [
    "display(top5)\n",
    "top5.plot(kind='bar',subplots=True,figsize=[12,8])\n",
    "plt.show()"
   ]
  },
  {
   "cell_type": "markdown",
   "metadata": {},
   "source": [
    "The top five are: The United Kingdom (GBR), Luxembourg (LUX), Sweden (SWE), the Czech Republic (CZE), and Switzerland (CHE).\n",
    "\n",
    "As the previous analysis suggests, all countries can attribute their GHG reduction to saving and increasing the efficiency of energy. All countries have also increased their renewable energy usage. although there is considerable variation. Sweden's change was only negligible (0.8%), while the UK had increased their renewable energy usage by over 1400%. No country produced results in decreasing car use, however all except for Luxembourg did increase per vehicle fuel efficiency by 16-22%.  \n",
    "\n",
    "Let's look at the factors over time for each country. We will invert renewable use for consistency (i.e. all lines should be going down for reduced GHG emissions)."
   ]
  },
  {
   "cell_type": "code",
   "execution_count": null,
   "metadata": {},
   "outputs": [],
   "source": [
    "for country in top5list:\n",
    "    top5charts = pd.DataFrame()\n",
    "    top5charts['GHG'] = capita_time[country] \n",
    "    top5charts['Energy Use'] = energy_ts[country] \n",
    "    top5charts['Renewable Use (Inverted)'] = 0 - renew_ts[country] \n",
    "    top5charts['Car Use'] = car_use_ts[country] \n",
    "    top5charts['Fuel Use'] = fuelpercar_ts[country] \n",
    "    top5charts.plot(subplots=True,title=country,figsize=[6,3])\n",
    "    plt.show()"
   ]
  },
  {
   "cell_type": "markdown",
   "metadata": {},
   "source": [
    "Energy use and fuel use generally go down with the total GHG. Car use does not (and in fact goes up in all cases). Renewable use is consistent with GHG for the UK, Luxembourg, and the Czech Republic, but has a weak correlation for Sweden and is inconsistent with Switzerland."
   ]
  },
  {
   "cell_type": "markdown",
   "metadata": {},
   "source": [
    "# Discussion and Conclusion\n",
    "\n",
    "It is vital to the future of the planet that greenhouse gas emissions be reduced and climate change mitigated. The world is already on track to reach dangerous levels of global warming (Chestney & Januta, 2021). The OECD and other major of the world emit greenhouse gases at rates much higher than other countries (OECD, 2021b) and it is important that countries bring down not only their total emissions, but also the emissions each person in major nations emit. \n",
    "\n",
    "The analysis has shown little correlation in per capita greenhouse gas emissions with the GDP per capita or the population density of a country. This suggests that reducing emissions need not require reducing the economic productivity of the people. Countries with lower GHG emissions per capita do not share any particular profile whereby they emit less from transport, electricity, or any particular sector.  Furthermore, while it is debatable whether the emissions reductions are sufficient enough to reduce climate change (Abnett, 2021), most OECD nations have made reductions in GHG emissions per capita, and several have made significant reductions, as much as by one third to one half in the period from 1990 to 2018. \n",
    "\n",
    "The reductions in this timeframe appear to be mostly correlated with a lower energy use per capita. This means that efforts to improve the efficiency of energy use have brought the strongest results so far. Such contributions include improving energy efficiency of buildings (The Government of the United Kingdom, 2020) and improving the efficiency of appliances and equipment, an initiative that many OECD countries have taken up  (ACEEE, AEEE, ECEEE, 2019). Renewable energy is another contributor, however while its adoption over the past three decades has shown results especially in the top GHG emission reducers, there is not as much correlation between per capita emissions reductions as there is with energy conservation. As top reducers have increased their renewable energy consumption as much as 14 fold, it is possible that stronger investment in renewable energy by other countries could drive further reductions. \n",
    " \n",
    "The emissions reductions over the timeframe concerned do not correlate with car usage, which has in fact risen across all countries for which relevant data could be found. Fuel consumption per motor vehicle has decreased in some countries, but the correlation is weak. It would appear that road transport in particular is currently a small factor in reducing climate change emissions. However, with all transport accounting for 23% of OECD member’s GHG emissions on average, it is still worth pursuing. According to the International Energy Agency, zero-emission electric vehicles only made up for 2.5% of all car sales worldwide (2021). As electric vehicles become more widespread, it is possible that they will lead to more significant reductions in the future. \n",
    "\n",
    "The top reducers have made reductions in energy use and motor fuel use, and  significantly increased their use of renewable energy in most cases. Other countries are encouraged look to these methods, in particular energy conservation and efficiency, to reduce their GHG emissions. \n"
   ]
  },
  {
   "cell_type": "markdown",
   "metadata": {},
   "source": [
    "# Future Analysis\n",
    "\n",
    "As mentioned in the Discussion and Conclusion, one possible reason that correlations are weak between certain factors, such as reduced motor fuel use, is that the adoption is not significantly advanced enough. Further analysis in these areas is encouraged. \n",
    "\n",
    "The COVID-19 pandemic has significantly affected industries and transportation habits of people worldwide in 2020 onward. Data from BP already suggests that global carbon emissions fell by 6.3% in 2020 (BP, 2021, p. 15). New living trends including telecommuting, as well as reduced flight use, likely contributed strongly to these emissions (Jiang, et al., 2021). For the purpose of GHG reductions, it would be beneficial to analyse the impact and long-term viability of these measures on emissions so that environmentally successful initiatives could be maintained. \n",
    "\n",
    "Finally, more detailed analysis of energy use across various sectors could better identify other possibilities in reducing greenhouse gas emissions. Such possibilities include looking at which renewable energies are the best contributors to GHG emission reductions. Another such possibility is analysing air transport. Due to the popular focus on electric vehicle and reducing car usage (The Government of the United Kingdom, 2020) (Niranjan, 2019), road transport was the primary focus for this analysis. However, aviation is a potentially significant contributor, the emissions of which accounting for 3.8% of global CO2 emissions in the EU in 2018 and previously forecasted (before the pandemic) to triple (European Commission, 2021). Detailed data analysis can provide invaluable insight into methods of reducing global emissions and mitigating climate change.\n"
   ]
  },
  {
   "cell_type": "markdown",
   "metadata": {},
   "source": [
    "# References\n",
    "\n",
    "References\n",
    "Abnett, K. V. V., 2021. \"Flurry of emissions pledges still not enough to meet global climate goals\". *Reuters*. [Online] \n",
    "Available at: https://www.reuters.com/business/sustainable-business/flurry-emissions-pledges-still-not-enough-meet-global-climate-goals-2021-08-05/\n",
    "[Accessed 15 Aug 2021].\n",
    "\n",
    "ACEEE, AEEE, ECEEE, 2019. *12 strategies to step up global energy efficiency*. [Online] \n",
    "Available at: https://www.eceee.org/static/media/uploads/site-2/policy-areas/globalaction/12-eestrategiesfor-ieahighlevel-enrev.pdf\n",
    "[Accessed 21 Aug 2021].\n",
    "\n",
    "BP, 2021. *bp Statistical Review of World Energy*, London: BP.\n",
    "\n",
    "Chestney, N. & Januta, A., 2021. \"U.N. climate change report sounds 'code red for humanity'\". *Reuters*. [Online] \n",
    "Available at: https://www.reuters.com/business/environment/un-sounds-clarion-call-over-irreversible-climate-impacts-by-humans-2021-08-09/\n",
    "[Accessed 14 Aug 2021].\n",
    "\n",
    "Deutsche Welle, 2021. \"Turkish Republic of Northern Cyprus\". *Deutsche Welle*. [Online] \n",
    "Available at: https://www.dw.com/en/turkish-republic-of-northern-cyprus/t-18943633\n",
    "[Accessed 15 Aug 2021].\n",
    "\n",
    "Dietz, T. & Rosa, E. A., 1997. \"Effects of population and affluence on CO2 emissions\". *Proceedings of the National Academy of Sciences of the United States of America*, 94(1), pp. 175-179.\n",
    "European Commission, 2021. Reducing emissions from aviation. [Online] \n",
    "Available at: https://ec.europa.eu/clima/policies/transport/aviation_en\n",
    "[Accessed 15 Aug 2021].\n",
    "\n",
    "Geneva College, 2021. *Energy Use and Conservation.* [Online] \n",
    "Available at: https://www.geneva.edu/community/environmental-stewardship/energy_use_conservation\n",
    "[Accessed 15 Aug 2021].\n",
    "\n",
    "IEA, 2021. *Global EV Data Explorer.* [Online] \n",
    "Available at: https://www.iea.org/articles/global-ev-data-explorer\n",
    "[Accessed 15 Aug 2021].\n",
    "\n",
    "Iorifan, o., 2021. \"wrong country code ISO_3 for France in naturalearth_lowres dataset #1041\". *GitHub* [Online] \n",
    "Available at: https://github.com/geopandas/geopandas/issues/1041\n",
    "[Accessed 12 Aug 2021].\n",
    "\n",
    "IPCC, 2021. *Climate change widespread, rapid, and intensifying – IPCC*. [Online] \n",
    "Available at: https://www.ipcc.ch/2021/08/09/ar6-wg1-20210809-pr/\n",
    "[Accessed 14 Aug 2021].\n",
    "\n",
    "ISO, 2021. *ISO 3166 Country Codes*. [Online] \n",
    "Available at: https://www.iso.org/iso-3166-country-codes.html\n",
    "[Accessed 15 Aug 2021].\n",
    "\n",
    "Jiang, P., Fan, Y. V. & Klemeš, J. J., 2021. \"Impacts of COVID-19 on energy demand and consumption: Challenges, lessons and emerging opportunities\". *Appl Energy*, 9 Jan.285(116441).\n",
    "\n",
    "Niranjan, A., 2019. \"Climate Solutions: Technologies to slow climate change\". *Deutsche Welle* [Online] \n",
    "Available at: https://www.dw.com/en/climate-solutions-technologies-to-slow-climate-change/a-51660909\n",
    "[Accessed 15 Aug 2021].\n",
    "\n",
    "OECD, 2021a. \"Agri-Environmental other indicators: Greenhouse gas emissions\". *OECD.Stat*  [Online] \n",
    "Available at: https://stats.oecd.org/\n",
    "[Accessed 12 Aug 2021].\n",
    "\n",
    "OECD, 2021b. *Climate Change*. [Online] \n",
    "Available at: https://www.oecd-ilibrary.org/sites/5584ad47-en/index.html?itemId=/content/component/5584ad47-en\n",
    "[Accessed 14 Aug 2021].\n",
    "\n",
    "OECD, 2021c. \"Data from ITF/Eurostat/UNECE questionnaire: Performance indicators\". *OECD.Stat* [Online] \n",
    "Available at: https://stats.oecd.org/\n",
    "[Accessed 14 Aug 2021].\n",
    "\n",
    "Quince, A. & Phillips, K., 2015. \"A global history of emissions reduction schemes\". *ABC Radio National* [Online] \n",
    "Available at: https://www.abc.net.au/radionational/programs/rearvision/a-global-history-of-carbon-reduction-schemes/6583580\n",
    "[Accessed 14 Aug 2021].\n",
    "\n",
    "Ritchie, H. & Roser, M., 2020. \"Energy\". *Our World in Data* [Online] \n",
    "Available at: https://ourworldindata.org/energy\n",
    "[Accessed 14 Aug 2021].\n",
    "\n",
    "The Government of the United Kingdom, 2020. \"The Ten Point Plan for a Green Industrial Revolution\". [Online] \n",
    "Available at: https://www.gov.uk/government/publications/the-ten-point-plan-for-a-green-industrial-revolution/title\n",
    "[Accessed 13 Aug 2021].\n",
    "\n",
    "The World Bank, 2021. *DataBank World Development Indicators*. [Online] \n",
    "Available at: https://databank.worldbank.org/source/world-development-indicators?savedlg=1&l=en#\n",
    "[Accessed 13 Aug 2021].\n",
    "\n",
    "UNFCCC, 2016. *The Paris Agreement*. [Online] \n",
    "Available at: https://unfccc.int/process-and-meetings/the-paris-agreement/the-paris-agreement\n",
    "[Accessed 14 Aug 2021].\n",
    "\n",
    "WWF-UK, 2021. *Reducing Carbon Emissions in the UK*. [Online] \n",
    "Available at: https://www.wwf.org.uk/what-we-do/projects/reducing-carbon-emissions-uk\n",
    "[Accessed 13 Aug 2021].\n",
    "\n"
   ]
  }
 ],
 "metadata": {
  "interpreter": {
   "hash": "67e1caa1959f2ab72cdad711292c6cbc4994572c5583771e509a912c14dfcf71"
  },
  "kernelspec": {
   "display_name": "Python 3",
   "language": "python",
   "name": "python3"
  },
  "language_info": {
   "codemirror_mode": {
    "name": "ipython",
    "version": 3
   },
   "file_extension": ".py",
   "mimetype": "text/x-python",
   "name": "python",
   "nbconvert_exporter": "python",
   "pygments_lexer": "ipython3",
   "version": "3.8.11"
  }
 },
 "nbformat": 4,
 "nbformat_minor": 2
}
